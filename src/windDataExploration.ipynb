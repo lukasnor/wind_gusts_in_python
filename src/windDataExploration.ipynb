{
 "cells": [
  {
   "cell_type": "markdown",
   "metadata": {
    "pycharm": {
     "name": "#%% md\n"
    }
   },
   "source": [
    "## Imports"
   ]
  },
  {
   "cell_type": "code",
   "execution_count": 34,
   "metadata": {
    "pycharm": {
     "name": "#%%\n"
    }
   },
   "outputs": [],
   "source": [
    "import pandas as pd"
   ]
  },
  {
   "cell_type": "code",
   "execution_count": 35,
   "metadata": {
    "pycharm": {
     "name": "#%%\n"
    }
   },
   "outputs": [],
   "source": [
    "observations: pd.DataFrame = pd.read_csv(\"../data/Offshore_Observations.csv\", index_col=0)  # time is index\n",
    "observations.index = pd.to_datetime(observations.index)  # convert Index to DateTimeIndex\n",
    "pred_vars = observations.keys().drop(\n",
    "    [\"horizon\", \"is_origin\"])  # Index(['u10', 'v10', 'd2m', 't2m', 'msl', 'sp', 'speed'])\n",
    "observations = observations[pred_vars]  # leave out \"horizon\" and \"is_origin\" from observations\n",
    "observations = observations.sort_index(level=0)"
   ]
  },
  {
   "cell_type": "code",
   "execution_count": 36,
   "outputs": [
    {
     "data": {
      "text/plain": "u10           2.982716\nv10          -5.717480\nd2m         281.803680\nt2m         289.077330\nmsl         291.514500\nsp       102389.480000\nspeed         6.448734\nName: 2018-08-31 18:00:00, dtype: float64"
     },
     "execution_count": 36,
     "metadata": {},
     "output_type": "execute_result"
    }
   ],
   "source": [
    "observations.iloc[-1]"
   ],
   "metadata": {
    "collapsed": false,
    "pycharm": {
     "name": "#%%\n"
    }
   }
  },
  {
   "cell_type": "code",
   "execution_count": 37,
   "outputs": [],
   "source": [
    "ensembles: pd.DataFrame = pd.read_csv(\"../data/Offshore_Ensembles.csv\")\n",
    "ensembles[\"time\"] = pd.to_datetime(ensembles[\"time\"], infer_datetime_format=True)  # convert time column to datetime\n",
    "ensembles = ensembles.pivot(index=[\"horizon\", \"time\", \"number\"], columns=[])  # create multiindex\n",
    "ensembles = ensembles[pred_vars]  # reduce columns to necessary ones\n",
    "ensembles = ensembles.sort_index(\n",
    "    level=[0, 1, 2])  # sort by horizon first (irrelevant), then by date (relevant for iloc!)"
   ],
   "metadata": {
    "collapsed": false,
    "pycharm": {
     "name": "#%%\n"
    }
   }
  },
  {
   "cell_type": "code",
   "execution_count": 38,
   "outputs": [
    {
     "data": {
      "text/plain": "                                u10       v10        d2m        t2m  \\\nhorizon time       number                                             \n0       2017-02-01 1      -3.977708  7.919396  274.65344  277.35468   \n                   2      -2.662095  8.383109  274.98750  277.06024   \n                   3      -3.467212  8.559954  274.81345  277.03150   \n                   4      -3.173303  7.742434  274.82900  277.38577   \n                   5      -3.267270  7.927633  274.84552  277.43518   \n...                             ...       ...        ...        ...   \n24      2018-09-01 46      3.305267 -4.471345  283.36807  289.00464   \n                   47      3.569658 -4.180910  283.10547  288.84120   \n                   48      4.149755 -3.274074  282.53824  289.06512   \n                   49      3.501141 -3.465200  282.36310  289.06354   \n                   50      3.594750 -3.891239  283.08148  288.97710   \n\n                                  msl         sp     speed  \nhorizon time       number                                   \n0       2017-02-01 1       101832.234  101833.09  8.862223  \n                   2       101817.600  101818.65  8.795639  \n                   3       101851.420  101852.51  9.235495  \n                   4       101798.590  101799.03  8.367505  \n                   5       101814.110  101814.95  8.574521  \n...                               ...        ...       ...  \n24      2018-09-01 46      102446.620  102447.15  5.560370  \n                   47      102460.940  102461.63  5.497496  \n                   48      102444.984  102445.64  5.285832  \n                   49      102411.970  102412.65  4.926012  \n                   50      102435.070  102435.61  5.297544  \n\n[144250 rows x 7 columns]",
      "text/html": "<div>\n<style scoped>\n    .dataframe tbody tr th:only-of-type {\n        vertical-align: middle;\n    }\n\n    .dataframe tbody tr th {\n        vertical-align: top;\n    }\n\n    .dataframe thead th {\n        text-align: right;\n    }\n</style>\n<table border=\"1\" class=\"dataframe\">\n  <thead>\n    <tr style=\"text-align: right;\">\n      <th></th>\n      <th></th>\n      <th></th>\n      <th>u10</th>\n      <th>v10</th>\n      <th>d2m</th>\n      <th>t2m</th>\n      <th>msl</th>\n      <th>sp</th>\n      <th>speed</th>\n    </tr>\n    <tr>\n      <th>horizon</th>\n      <th>time</th>\n      <th>number</th>\n      <th></th>\n      <th></th>\n      <th></th>\n      <th></th>\n      <th></th>\n      <th></th>\n      <th></th>\n    </tr>\n  </thead>\n  <tbody>\n    <tr>\n      <th rowspan=\"5\" valign=\"top\">0</th>\n      <th rowspan=\"5\" valign=\"top\">2017-02-01</th>\n      <th>1</th>\n      <td>-3.977708</td>\n      <td>7.919396</td>\n      <td>274.65344</td>\n      <td>277.35468</td>\n      <td>101832.234</td>\n      <td>101833.09</td>\n      <td>8.862223</td>\n    </tr>\n    <tr>\n      <th>2</th>\n      <td>-2.662095</td>\n      <td>8.383109</td>\n      <td>274.98750</td>\n      <td>277.06024</td>\n      <td>101817.600</td>\n      <td>101818.65</td>\n      <td>8.795639</td>\n    </tr>\n    <tr>\n      <th>3</th>\n      <td>-3.467212</td>\n      <td>8.559954</td>\n      <td>274.81345</td>\n      <td>277.03150</td>\n      <td>101851.420</td>\n      <td>101852.51</td>\n      <td>9.235495</td>\n    </tr>\n    <tr>\n      <th>4</th>\n      <td>-3.173303</td>\n      <td>7.742434</td>\n      <td>274.82900</td>\n      <td>277.38577</td>\n      <td>101798.590</td>\n      <td>101799.03</td>\n      <td>8.367505</td>\n    </tr>\n    <tr>\n      <th>5</th>\n      <td>-3.267270</td>\n      <td>7.927633</td>\n      <td>274.84552</td>\n      <td>277.43518</td>\n      <td>101814.110</td>\n      <td>101814.95</td>\n      <td>8.574521</td>\n    </tr>\n    <tr>\n      <th>...</th>\n      <th>...</th>\n      <th>...</th>\n      <td>...</td>\n      <td>...</td>\n      <td>...</td>\n      <td>...</td>\n      <td>...</td>\n      <td>...</td>\n      <td>...</td>\n    </tr>\n    <tr>\n      <th rowspan=\"5\" valign=\"top\">24</th>\n      <th rowspan=\"5\" valign=\"top\">2018-09-01</th>\n      <th>46</th>\n      <td>3.305267</td>\n      <td>-4.471345</td>\n      <td>283.36807</td>\n      <td>289.00464</td>\n      <td>102446.620</td>\n      <td>102447.15</td>\n      <td>5.560370</td>\n    </tr>\n    <tr>\n      <th>47</th>\n      <td>3.569658</td>\n      <td>-4.180910</td>\n      <td>283.10547</td>\n      <td>288.84120</td>\n      <td>102460.940</td>\n      <td>102461.63</td>\n      <td>5.497496</td>\n    </tr>\n    <tr>\n      <th>48</th>\n      <td>4.149755</td>\n      <td>-3.274074</td>\n      <td>282.53824</td>\n      <td>289.06512</td>\n      <td>102444.984</td>\n      <td>102445.64</td>\n      <td>5.285832</td>\n    </tr>\n    <tr>\n      <th>49</th>\n      <td>3.501141</td>\n      <td>-3.465200</td>\n      <td>282.36310</td>\n      <td>289.06354</td>\n      <td>102411.970</td>\n      <td>102412.65</td>\n      <td>4.926012</td>\n    </tr>\n    <tr>\n      <th>50</th>\n      <td>3.594750</td>\n      <td>-3.891239</td>\n      <td>283.08148</td>\n      <td>288.97710</td>\n      <td>102435.070</td>\n      <td>102435.61</td>\n      <td>5.297544</td>\n    </tr>\n  </tbody>\n</table>\n<p>144250 rows × 7 columns</p>\n</div>"
     },
     "execution_count": 38,
     "metadata": {},
     "output_type": "execute_result"
    }
   ],
   "source": [
    "ensembles"
   ],
   "metadata": {
    "collapsed": false,
    "pycharm": {
     "name": "#%%\n"
    }
   }
  },
  {
   "cell_type": "code",
   "execution_count": 39,
   "outputs": [],
   "source": [
    "horizon =  18\n",
    "ensembles = ensembles.loc[horizon]  # select horizon from data"
   ],
   "metadata": {
    "collapsed": false,
    "pycharm": {
     "name": "#%%\n"
    }
   }
  },
  {
   "cell_type": "code",
   "execution_count": 40,
   "outputs": [
    {
     "data": {
      "text/plain": "                                 u10        v10        d2m        t2m  \\\ntime                number                                              \n2017-02-01 18:00:00 1      -6.765342   9.689136  275.32645  277.89280   \n                    2      -6.058051  10.363215  275.58044  278.44110   \n                    3      -5.979378  10.052594  275.70944  278.53094   \n                    4      -6.375141  10.204773  275.41544  278.00250   \n                    5      -6.189095   9.715862  275.88672  278.55417   \n...                              ...        ...        ...        ...   \n2018-08-31 18:00:00 46      2.912539  -6.299201  282.70288  289.21503   \n                    47      3.825933  -6.051285  282.54490  289.11670   \n                    48      2.482987  -5.617123  281.98657  289.21515   \n                    49      3.287867  -5.798559  281.72733  288.95807   \n                    50      3.402519  -6.140212  282.54916  288.85180   \n\n                                   msl          sp      speed  \ntime                number                                     \n2017-02-01 18:00:00 1       101188.310  101189.336  11.817327  \n                    2       101127.540  101128.220  12.004008  \n                    3       101151.360  101152.164  11.696478  \n                    4       101104.530  101105.200  12.032448  \n                    5       101198.830  101199.650  11.519673  \n...                                ...         ...        ...  \n2018-08-31 18:00:00 46      102365.440  102366.310   6.939944  \n                    47      102380.945  102381.680   7.159317  \n                    48      102352.414  102353.330   6.141441  \n                    49      102364.310  102365.350   6.665835  \n                    50      102391.940  102392.880   7.019925  \n\n[28850 rows x 7 columns]",
      "text/html": "<div>\n<style scoped>\n    .dataframe tbody tr th:only-of-type {\n        vertical-align: middle;\n    }\n\n    .dataframe tbody tr th {\n        vertical-align: top;\n    }\n\n    .dataframe thead th {\n        text-align: right;\n    }\n</style>\n<table border=\"1\" class=\"dataframe\">\n  <thead>\n    <tr style=\"text-align: right;\">\n      <th></th>\n      <th></th>\n      <th>u10</th>\n      <th>v10</th>\n      <th>d2m</th>\n      <th>t2m</th>\n      <th>msl</th>\n      <th>sp</th>\n      <th>speed</th>\n    </tr>\n    <tr>\n      <th>time</th>\n      <th>number</th>\n      <th></th>\n      <th></th>\n      <th></th>\n      <th></th>\n      <th></th>\n      <th></th>\n      <th></th>\n    </tr>\n  </thead>\n  <tbody>\n    <tr>\n      <th rowspan=\"5\" valign=\"top\">2017-02-01 18:00:00</th>\n      <th>1</th>\n      <td>-6.765342</td>\n      <td>9.689136</td>\n      <td>275.32645</td>\n      <td>277.89280</td>\n      <td>101188.310</td>\n      <td>101189.336</td>\n      <td>11.817327</td>\n    </tr>\n    <tr>\n      <th>2</th>\n      <td>-6.058051</td>\n      <td>10.363215</td>\n      <td>275.58044</td>\n      <td>278.44110</td>\n      <td>101127.540</td>\n      <td>101128.220</td>\n      <td>12.004008</td>\n    </tr>\n    <tr>\n      <th>3</th>\n      <td>-5.979378</td>\n      <td>10.052594</td>\n      <td>275.70944</td>\n      <td>278.53094</td>\n      <td>101151.360</td>\n      <td>101152.164</td>\n      <td>11.696478</td>\n    </tr>\n    <tr>\n      <th>4</th>\n      <td>-6.375141</td>\n      <td>10.204773</td>\n      <td>275.41544</td>\n      <td>278.00250</td>\n      <td>101104.530</td>\n      <td>101105.200</td>\n      <td>12.032448</td>\n    </tr>\n    <tr>\n      <th>5</th>\n      <td>-6.189095</td>\n      <td>9.715862</td>\n      <td>275.88672</td>\n      <td>278.55417</td>\n      <td>101198.830</td>\n      <td>101199.650</td>\n      <td>11.519673</td>\n    </tr>\n    <tr>\n      <th>...</th>\n      <th>...</th>\n      <td>...</td>\n      <td>...</td>\n      <td>...</td>\n      <td>...</td>\n      <td>...</td>\n      <td>...</td>\n      <td>...</td>\n    </tr>\n    <tr>\n      <th rowspan=\"5\" valign=\"top\">2018-08-31 18:00:00</th>\n      <th>46</th>\n      <td>2.912539</td>\n      <td>-6.299201</td>\n      <td>282.70288</td>\n      <td>289.21503</td>\n      <td>102365.440</td>\n      <td>102366.310</td>\n      <td>6.939944</td>\n    </tr>\n    <tr>\n      <th>47</th>\n      <td>3.825933</td>\n      <td>-6.051285</td>\n      <td>282.54490</td>\n      <td>289.11670</td>\n      <td>102380.945</td>\n      <td>102381.680</td>\n      <td>7.159317</td>\n    </tr>\n    <tr>\n      <th>48</th>\n      <td>2.482987</td>\n      <td>-5.617123</td>\n      <td>281.98657</td>\n      <td>289.21515</td>\n      <td>102352.414</td>\n      <td>102353.330</td>\n      <td>6.141441</td>\n    </tr>\n    <tr>\n      <th>49</th>\n      <td>3.287867</td>\n      <td>-5.798559</td>\n      <td>281.72733</td>\n      <td>288.95807</td>\n      <td>102364.310</td>\n      <td>102365.350</td>\n      <td>6.665835</td>\n    </tr>\n    <tr>\n      <th>50</th>\n      <td>3.402519</td>\n      <td>-6.140212</td>\n      <td>282.54916</td>\n      <td>288.85180</td>\n      <td>102391.940</td>\n      <td>102392.880</td>\n      <td>7.019925</td>\n    </tr>\n  </tbody>\n</table>\n<p>28850 rows × 7 columns</p>\n</div>"
     },
     "execution_count": 40,
     "metadata": {},
     "output_type": "execute_result"
    }
   ],
   "source": [
    "ensembles"
   ],
   "metadata": {
    "collapsed": false,
    "pycharm": {
     "name": "#%%\n"
    }
   }
  },
  {
   "cell_type": "code",
   "execution_count": 42,
   "outputs": [
    {
     "data": {
      "text/plain": "DatetimeIndex(['2017-02-01 18:00:00', '2017-02-02 18:00:00',\n               '2017-02-03 18:00:00', '2017-02-04 18:00:00',\n               '2017-02-05 18:00:00', '2017-02-06 18:00:00',\n               '2017-02-07 18:00:00', '2017-02-08 18:00:00',\n               '2017-02-09 18:00:00', '2017-02-10 18:00:00',\n               ...\n               '2018-08-22 18:00:00', '2018-08-23 18:00:00',\n               '2018-08-24 18:00:00', '2018-08-25 18:00:00',\n               '2018-08-26 18:00:00', '2018-08-27 18:00:00',\n               '2018-08-28 18:00:00', '2018-08-29 18:00:00',\n               '2018-08-30 18:00:00', '2018-08-31 18:00:00'],\n              dtype='datetime64[ns]', name='time', length=577, freq=None)"
     },
     "execution_count": 42,
     "metadata": {},
     "output_type": "execute_result"
    }
   ],
   "source": [
    "ensembles.index.get_level_values(0).unique()"
   ],
   "metadata": {
    "collapsed": false,
    "pycharm": {
     "name": "#%%\n"
    }
   }
  },
  {
   "cell_type": "code",
   "execution_count": null,
   "outputs": [],
   "source": [],
   "metadata": {
    "collapsed": false,
    "pycharm": {
     "name": "#%%\n"
    }
   }
  }
 ],
 "metadata": {
  "kernelspec": {
   "display_name": "Python 3 (ipykernel)",
   "language": "python",
   "name": "python3"
  },
  "language_info": {
   "codemirror_mode": {
    "name": "ipython",
    "version": 3
   },
   "file_extension": ".py",
   "mimetype": "text/x-python",
   "name": "python",
   "nbconvert_exporter": "python",
   "pygments_lexer": "ipython3",
   "version": "3.10.1"
  }
 },
 "nbformat": 4,
 "nbformat_minor": 1
}