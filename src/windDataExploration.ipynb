{
 "cells": [
  {
   "cell_type": "markdown",
   "metadata": {
    "pycharm": {
     "name": "#%% md\n"
    }
   },
   "source": [
    "## Imports"
   ]
  },
  {
   "cell_type": "code",
   "execution_count": 29,
   "metadata": {
    "pycharm": {
     "name": "#%%\n"
    }
   },
   "outputs": [],
   "source": [
    "import pandas as pd"
   ]
  },
  {
   "cell_type": "code",
   "execution_count": 58,
   "metadata": {
    "pycharm": {
     "name": "#%%\n"
    }
   },
   "outputs": [],
   "source": [
    "offshore_control_data = pd.read_csv(\"../data/Offshore_Control.csv\",index_col=0)\n",
    "offshore_ensembles_data = pd.read_csv(\"../data/Offshore_Ensembles.csv\")  # Restructure ensembles to access each one for a certain date\n",
    "offshore_power_data = pd.read_csv(\"../data/Offshore_Power.csv\",index_col=0)\n",
    "offshore_observations_data = pd.read_csv(\"../data/Offshore_Observations.csv\",index_col=0,infer_datetime_format=True)"
   ]
  },
  {
   "cell_type": "code",
   "execution_count": 31,
   "metadata": {
    "pycharm": {
     "name": "#%%\n"
    },
    "scrolled": true
   },
   "outputs": [
    {
     "name": "stdout",
     "output_type": "stream",
     "text": [
      "<class 'pandas.core.frame.DataFrame'>\n",
      "Index: 2885 entries, 2017-02-01 00:00:00 to 2018-09-01 00:00:00\n",
      "Data columns (total 9 columns):\n",
      " #   Column     Non-Null Count  Dtype  \n",
      "---  ------     --------------  -----  \n",
      " 0   sp         2885 non-null   float64\n",
      " 1   msl        2885 non-null   float64\n",
      " 2   u10        2885 non-null   float64\n",
      " 3   v10        2885 non-null   float64\n",
      " 4   t2m        2885 non-null   float64\n",
      " 5   d2m        2885 non-null   float64\n",
      " 6   speed      2885 non-null   float64\n",
      " 7   horizon    2885 non-null   int64  \n",
      " 8   is_origin  2885 non-null   int64  \n",
      "dtypes: float64(7), int64(2)\n",
      "memory usage: 225.4+ KB\n"
     ]
    },
    {
     "data": {
      "text/plain": "                             sp         msl       u10       v10        t2m  \\\ntime                                                                         \n2017-02-01 00:00:00  101826.390  101824.984 -3.264678  8.207102  277.33472   \n2017-02-02 00:00:00  100824.360  100823.050 -4.862424  9.098550  278.46550   \n2017-02-03 00:00:00  100170.110  100169.190 -3.109724  8.264206  280.75778   \n2017-02-04 00:00:00   99896.780   99895.625 -5.063672  6.097414  280.14770   \n2017-02-05 00:00:00  100225.266  100224.200 -5.390242  0.159218  279.31274   \n\n                           d2m      speed  horizon  is_origin  \ntime                                                           \n2017-02-01 00:00:00  274.82648   8.832590        0          1  \n2017-02-02 00:00:00  276.77573  10.316336        0          1  \n2017-02-03 00:00:00  279.23500   8.829920        0          1  \n2017-02-04 00:00:00  279.17460   7.925858        0          1  \n2017-02-05 00:00:00  277.79840   5.392593        0          1  ",
      "text/html": "<div>\n<style scoped>\n    .dataframe tbody tr th:only-of-type {\n        vertical-align: middle;\n    }\n\n    .dataframe tbody tr th {\n        vertical-align: top;\n    }\n\n    .dataframe thead th {\n        text-align: right;\n    }\n</style>\n<table border=\"1\" class=\"dataframe\">\n  <thead>\n    <tr style=\"text-align: right;\">\n      <th></th>\n      <th>sp</th>\n      <th>msl</th>\n      <th>u10</th>\n      <th>v10</th>\n      <th>t2m</th>\n      <th>d2m</th>\n      <th>speed</th>\n      <th>horizon</th>\n      <th>is_origin</th>\n    </tr>\n    <tr>\n      <th>time</th>\n      <th></th>\n      <th></th>\n      <th></th>\n      <th></th>\n      <th></th>\n      <th></th>\n      <th></th>\n      <th></th>\n      <th></th>\n    </tr>\n  </thead>\n  <tbody>\n    <tr>\n      <th>2017-02-01 00:00:00</th>\n      <td>101826.390</td>\n      <td>101824.984</td>\n      <td>-3.264678</td>\n      <td>8.207102</td>\n      <td>277.33472</td>\n      <td>274.82648</td>\n      <td>8.832590</td>\n      <td>0</td>\n      <td>1</td>\n    </tr>\n    <tr>\n      <th>2017-02-02 00:00:00</th>\n      <td>100824.360</td>\n      <td>100823.050</td>\n      <td>-4.862424</td>\n      <td>9.098550</td>\n      <td>278.46550</td>\n      <td>276.77573</td>\n      <td>10.316336</td>\n      <td>0</td>\n      <td>1</td>\n    </tr>\n    <tr>\n      <th>2017-02-03 00:00:00</th>\n      <td>100170.110</td>\n      <td>100169.190</td>\n      <td>-3.109724</td>\n      <td>8.264206</td>\n      <td>280.75778</td>\n      <td>279.23500</td>\n      <td>8.829920</td>\n      <td>0</td>\n      <td>1</td>\n    </tr>\n    <tr>\n      <th>2017-02-04 00:00:00</th>\n      <td>99896.780</td>\n      <td>99895.625</td>\n      <td>-5.063672</td>\n      <td>6.097414</td>\n      <td>280.14770</td>\n      <td>279.17460</td>\n      <td>7.925858</td>\n      <td>0</td>\n      <td>1</td>\n    </tr>\n    <tr>\n      <th>2017-02-05 00:00:00</th>\n      <td>100225.266</td>\n      <td>100224.200</td>\n      <td>-5.390242</td>\n      <td>0.159218</td>\n      <td>279.31274</td>\n      <td>277.79840</td>\n      <td>5.392593</td>\n      <td>0</td>\n      <td>1</td>\n    </tr>\n  </tbody>\n</table>\n</div>"
     },
     "execution_count": 31,
     "metadata": {},
     "output_type": "execute_result"
    }
   ],
   "source": [
    "offshore_control_data.info()\n",
    "offshore_control_data.head(5)"
   ]
  },
  {
   "cell_type": "code",
   "execution_count": 45,
   "metadata": {
    "pycharm": {
     "name": "#%%\n"
    }
   },
   "outputs": [
    {
     "name": "stdout",
     "output_type": "stream",
     "text": [
      "<class 'pandas.core.frame.DataFrame'>\n",
      "RangeIndex: 144250 entries, 0 to 144249\n",
      "Data columns (total 11 columns):\n",
      " #   Column     Non-Null Count   Dtype  \n",
      "---  ------     --------------   -----  \n",
      " 0   time       144250 non-null  object \n",
      " 1   number     144250 non-null  int64  \n",
      " 2   sp         144250 non-null  float64\n",
      " 3   msl        144250 non-null  float64\n",
      " 4   u10        144250 non-null  float64\n",
      " 5   v10        144250 non-null  float64\n",
      " 6   t2m        144250 non-null  float64\n",
      " 7   d2m        144250 non-null  float64\n",
      " 8   speed      144250 non-null  float64\n",
      " 9   horizon    144250 non-null  int64  \n",
      " 10  is_origin  144250 non-null  int64  \n",
      "dtypes: float64(7), int64(3), object(1)\n",
      "memory usage: 12.1+ MB\n"
     ]
    },
    {
     "data": {
      "text/plain": "                  time  number         sp         msl       u10       v10  \\\n0  2017-02-01 00:00:00       1  101833.09  101832.234 -3.977708  7.919396   \n1  2017-02-02 00:00:00       1  100839.22  100838.410 -5.219008  9.055080   \n2  2017-02-03 00:00:00       1  100167.15  100166.625 -2.604713  8.133394   \n3  2017-02-04 00:00:00       1   99909.20   99908.450 -4.745826  6.225957   \n4  2017-02-05 00:00:00       1  100219.17  100218.110 -5.307553  0.081582   \n\n         t2m        d2m      speed  horizon  is_origin  \n0  277.35468  274.65344   8.862223        0          1  \n1  278.74072  276.95612  10.451436        0          1  \n2  281.15524  279.51270   8.540294        0          1  \n3  280.47852  279.46176   7.828500        0          1  \n4  279.68680  278.00967   5.308180        0          1  ",
      "text/html": "<div>\n<style scoped>\n    .dataframe tbody tr th:only-of-type {\n        vertical-align: middle;\n    }\n\n    .dataframe tbody tr th {\n        vertical-align: top;\n    }\n\n    .dataframe thead th {\n        text-align: right;\n    }\n</style>\n<table border=\"1\" class=\"dataframe\">\n  <thead>\n    <tr style=\"text-align: right;\">\n      <th></th>\n      <th>time</th>\n      <th>number</th>\n      <th>sp</th>\n      <th>msl</th>\n      <th>u10</th>\n      <th>v10</th>\n      <th>t2m</th>\n      <th>d2m</th>\n      <th>speed</th>\n      <th>horizon</th>\n      <th>is_origin</th>\n    </tr>\n  </thead>\n  <tbody>\n    <tr>\n      <th>0</th>\n      <td>2017-02-01 00:00:00</td>\n      <td>1</td>\n      <td>101833.09</td>\n      <td>101832.234</td>\n      <td>-3.977708</td>\n      <td>7.919396</td>\n      <td>277.35468</td>\n      <td>274.65344</td>\n      <td>8.862223</td>\n      <td>0</td>\n      <td>1</td>\n    </tr>\n    <tr>\n      <th>1</th>\n      <td>2017-02-02 00:00:00</td>\n      <td>1</td>\n      <td>100839.22</td>\n      <td>100838.410</td>\n      <td>-5.219008</td>\n      <td>9.055080</td>\n      <td>278.74072</td>\n      <td>276.95612</td>\n      <td>10.451436</td>\n      <td>0</td>\n      <td>1</td>\n    </tr>\n    <tr>\n      <th>2</th>\n      <td>2017-02-03 00:00:00</td>\n      <td>1</td>\n      <td>100167.15</td>\n      <td>100166.625</td>\n      <td>-2.604713</td>\n      <td>8.133394</td>\n      <td>281.15524</td>\n      <td>279.51270</td>\n      <td>8.540294</td>\n      <td>0</td>\n      <td>1</td>\n    </tr>\n    <tr>\n      <th>3</th>\n      <td>2017-02-04 00:00:00</td>\n      <td>1</td>\n      <td>99909.20</td>\n      <td>99908.450</td>\n      <td>-4.745826</td>\n      <td>6.225957</td>\n      <td>280.47852</td>\n      <td>279.46176</td>\n      <td>7.828500</td>\n      <td>0</td>\n      <td>1</td>\n    </tr>\n    <tr>\n      <th>4</th>\n      <td>2017-02-05 00:00:00</td>\n      <td>1</td>\n      <td>100219.17</td>\n      <td>100218.110</td>\n      <td>-5.307553</td>\n      <td>0.081582</td>\n      <td>279.68680</td>\n      <td>278.00967</td>\n      <td>5.308180</td>\n      <td>0</td>\n      <td>1</td>\n    </tr>\n  </tbody>\n</table>\n</div>"
     },
     "execution_count": 45,
     "metadata": {},
     "output_type": "execute_result"
    }
   ],
   "source": [
    "offshore_ensembles_data.info()\n",
    "offshore_ensembles_data.head(5)"
   ]
  },
  {
   "cell_type": "code",
   "execution_count": 34,
   "metadata": {
    "pycharm": {
     "name": "#%%\n"
    }
   },
   "outputs": [
    {
     "name": "stdout",
     "output_type": "stream",
     "text": [
      "<class 'pandas.core.frame.DataFrame'>\n",
      "Index: 2885 entries, 2017-02-01 00:00:00 to 2018-09-01 00:00:00\n",
      "Data columns (total 2 columns):\n",
      " #   Column      Non-Null Count  Dtype  \n",
      "---  ------      --------------  -----  \n",
      " 0   wind_power  2885 non-null   float64\n",
      " 1   horizon     2885 non-null   int64  \n",
      "dtypes: float64(1), int64(1)\n",
      "memory usage: 67.6+ KB\n"
     ]
    },
    {
     "data": {
      "text/plain": "                     wind_power  horizon\ntime                                    \n2017-02-01 00:00:00       0.649        0\n2017-02-01 06:00:00       0.781        6\n2017-02-01 12:00:00       0.893       12\n2017-02-01 18:00:00       0.909       18\n2017-02-02 00:00:00       0.787       24\n2017-02-02 00:00:00       0.787        0\n2017-02-02 06:00:00       0.658        6\n2017-02-02 12:00:00       0.737       12\n2017-02-02 18:00:00       0.896       18\n2017-02-03 00:00:00       0.675       24",
      "text/html": "<div>\n<style scoped>\n    .dataframe tbody tr th:only-of-type {\n        vertical-align: middle;\n    }\n\n    .dataframe tbody tr th {\n        vertical-align: top;\n    }\n\n    .dataframe thead th {\n        text-align: right;\n    }\n</style>\n<table border=\"1\" class=\"dataframe\">\n  <thead>\n    <tr style=\"text-align: right;\">\n      <th></th>\n      <th>wind_power</th>\n      <th>horizon</th>\n    </tr>\n    <tr>\n      <th>time</th>\n      <th></th>\n      <th></th>\n    </tr>\n  </thead>\n  <tbody>\n    <tr>\n      <th>2017-02-01 00:00:00</th>\n      <td>0.649</td>\n      <td>0</td>\n    </tr>\n    <tr>\n      <th>2017-02-01 06:00:00</th>\n      <td>0.781</td>\n      <td>6</td>\n    </tr>\n    <tr>\n      <th>2017-02-01 12:00:00</th>\n      <td>0.893</td>\n      <td>12</td>\n    </tr>\n    <tr>\n      <th>2017-02-01 18:00:00</th>\n      <td>0.909</td>\n      <td>18</td>\n    </tr>\n    <tr>\n      <th>2017-02-02 00:00:00</th>\n      <td>0.787</td>\n      <td>24</td>\n    </tr>\n    <tr>\n      <th>2017-02-02 00:00:00</th>\n      <td>0.787</td>\n      <td>0</td>\n    </tr>\n    <tr>\n      <th>2017-02-02 06:00:00</th>\n      <td>0.658</td>\n      <td>6</td>\n    </tr>\n    <tr>\n      <th>2017-02-02 12:00:00</th>\n      <td>0.737</td>\n      <td>12</td>\n    </tr>\n    <tr>\n      <th>2017-02-02 18:00:00</th>\n      <td>0.896</td>\n      <td>18</td>\n    </tr>\n    <tr>\n      <th>2017-02-03 00:00:00</th>\n      <td>0.675</td>\n      <td>24</td>\n    </tr>\n  </tbody>\n</table>\n</div>"
     },
     "execution_count": 34,
     "metadata": {},
     "output_type": "execute_result"
    }
   ],
   "source": [
    "offshore_power_data.info()\n",
    "offshore_power_data.head(10)"
   ]
  },
  {
   "cell_type": "code",
   "execution_count": 61,
   "metadata": {
    "pycharm": {
     "name": "#%%\n"
    }
   },
   "outputs": [
    {
     "name": "stdout",
     "output_type": "stream",
     "text": [
      "<class 'pandas.core.frame.DataFrame'>\n",
      "DatetimeIndex: 2884 entries, 2017-02-01 00:00:00 to 2018-08-31 18:00:00\n",
      "Data columns (total 9 columns):\n",
      " #   Column     Non-Null Count  Dtype  \n",
      "---  ------     --------------  -----  \n",
      " 0   u10        2884 non-null   float64\n",
      " 1   v10        2884 non-null   float64\n",
      " 2   d2m        2884 non-null   float64\n",
      " 3   t2m        2884 non-null   float64\n",
      " 4   msl        2884 non-null   float64\n",
      " 5   sp         2884 non-null   float64\n",
      " 6   speed      2884 non-null   float64\n",
      " 7   horizon    2884 non-null   int64  \n",
      " 8   is_origin  2884 non-null   int64  \n",
      "dtypes: float64(7), int64(2)\n",
      "memory usage: 225.3 KB\n",
      "<class 'pandas.core.frame.DataFrame'>\n",
      "DatetimeIndex: 2884 entries, 2017-02-01 00:00:00 to 2018-08-31 18:00:00\n",
      "Data columns (total 9 columns):\n",
      " #   Column     Non-Null Count  Dtype  \n",
      "---  ------     --------------  -----  \n",
      " 0   u10        2884 non-null   float64\n",
      " 1   v10        2884 non-null   float64\n",
      " 2   d2m        2884 non-null   float64\n",
      " 3   t2m        2884 non-null   float64\n",
      " 4   msl        2884 non-null   float64\n",
      " 5   sp         2884 non-null   float64\n",
      " 6   speed      2884 non-null   float64\n",
      " 7   horizon    2884 non-null   int64  \n",
      " 8   is_origin  2884 non-null   int64  \n",
      "dtypes: float64(7), int64(2)\n",
      "memory usage: 225.3 KB\n"
     ]
    }
   ],
   "source": [
    "offshore_observations_data.info()\n",
    "offshore_observations_data.head(5)\n",
    "offshore_observations_data.index = pd.to_datetime(offshore_observations_data.index)\n",
    "offshore_observations_data.info()"
   ]
  },
  {
   "cell_type": "code",
   "execution_count": 46,
   "metadata": {
    "pycharm": {
     "name": "#%%\n"
    }
   },
   "outputs": [],
   "source": [
    "#offshore_ensembles_data_restructured = offshore_ensembles_data.pivot(index=[\"horizon\",\"time\"],columns=[\"number\"],values=[\"u10\",\"v10\",\"d2m\",\"t2m\",\"msl\",\"sp\",\"speed\"])\n",
    "#offshore_ensembles_data.keys()\n",
    "offshore_ensembles_data_restructured = offshore_ensembles_data.pivot(index  = [\"horizon\",\"time\"],columns=\"number\",values=[\"speed\",\"d2m\"])"
   ]
  },
  {
   "cell_type": "code",
   "execution_count": 47,
   "metadata": {
    "pycharm": {
     "name": "#%%\n"
    }
   },
   "outputs": [
    {
     "data": {
      "text/plain": "                                 speed                                  \\\nnumber                              1          2          3         4    \nhorizon time                                                             \n0       2017-02-01 00:00:00   8.862223   8.795639   9.235495  8.367505   \n        2017-02-02 00:00:00  10.451436  10.054616  10.706299  9.802099   \n        2017-02-03 00:00:00   8.540294   8.961194   8.664668  8.791291   \n        2017-02-04 00:00:00   7.828500   8.076684   7.840140  8.092784   \n        2017-02-05 00:00:00   5.308180   5.796695   5.653952  5.480312   \n\n                                                                         \\\nnumber                              5          6          7          8    \nhorizon time                                                              \n0       2017-02-01 00:00:00   8.574521   9.028636   9.629373   7.984891   \n        2017-02-02 00:00:00  10.248920  10.252526  10.026599  10.474871   \n        2017-02-03 00:00:00   8.559384   8.915144   8.861390   8.587131   \n        2017-02-04 00:00:00   8.144852   7.745573   7.856093   8.032835   \n        2017-02-05 00:00:00   5.701424   5.468842   5.543924   5.675903   \n\n                                                  ...        d2m             \\\nnumber                              9         10  ...         41         42   \nhorizon time                                      ...                         \n0       2017-02-01 00:00:00   9.224573  8.434877  ...  274.53070  275.10632   \n        2017-02-02 00:00:00  10.646054  9.856325  ...  276.82056  276.72443   \n        2017-02-03 00:00:00   8.095796  9.384326  ...  279.24700  279.23150   \n        2017-02-04 00:00:00   8.597539  7.345924  ...  279.07254  279.27148   \n        2017-02-05 00:00:00   5.713784  5.610285  ...  277.46866  278.13974   \n\n                                                                         \\\nnumber                              43         44         45         46   \nhorizon time                                                              \n0       2017-02-01 00:00:00  274.88260  274.76068  274.59824  275.04144   \n        2017-02-02 00:00:00  276.50000  277.04150  276.62488  276.92154   \n        2017-02-03 00:00:00  279.26830  279.21228  279.19415  279.28600   \n        2017-02-04 00:00:00  279.09213  279.25336  279.19380  279.15310   \n        2017-02-05 00:00:00  278.05520  277.55820  277.25842  278.34738   \n\n                                                                         \nnumber                              47         48         49         50  \nhorizon time                                                             \n0       2017-02-01 00:00:00  274.87952  274.76166  274.87160  274.76790  \n        2017-02-02 00:00:00  276.70285  276.84308  276.90564  276.64062  \n        2017-02-03 00:00:00  279.26227  279.21716  279.30542  279.17360  \n        2017-02-04 00:00:00  279.03650  279.31050  279.20862  279.13870  \n        2017-02-05 00:00:00  277.76248  277.85083  277.79694  277.81723  \n\n[5 rows x 100 columns]",
      "text/html": "<div>\n<style scoped>\n    .dataframe tbody tr th:only-of-type {\n        vertical-align: middle;\n    }\n\n    .dataframe tbody tr th {\n        vertical-align: top;\n    }\n\n    .dataframe thead tr th {\n        text-align: left;\n    }\n\n    .dataframe thead tr:last-of-type th {\n        text-align: right;\n    }\n</style>\n<table border=\"1\" class=\"dataframe\">\n  <thead>\n    <tr>\n      <th></th>\n      <th></th>\n      <th colspan=\"10\" halign=\"left\">speed</th>\n      <th>...</th>\n      <th colspan=\"10\" halign=\"left\">d2m</th>\n    </tr>\n    <tr>\n      <th></th>\n      <th>number</th>\n      <th>1</th>\n      <th>2</th>\n      <th>3</th>\n      <th>4</th>\n      <th>5</th>\n      <th>6</th>\n      <th>7</th>\n      <th>8</th>\n      <th>9</th>\n      <th>10</th>\n      <th>...</th>\n      <th>41</th>\n      <th>42</th>\n      <th>43</th>\n      <th>44</th>\n      <th>45</th>\n      <th>46</th>\n      <th>47</th>\n      <th>48</th>\n      <th>49</th>\n      <th>50</th>\n    </tr>\n    <tr>\n      <th>horizon</th>\n      <th>time</th>\n      <th></th>\n      <th></th>\n      <th></th>\n      <th></th>\n      <th></th>\n      <th></th>\n      <th></th>\n      <th></th>\n      <th></th>\n      <th></th>\n      <th></th>\n      <th></th>\n      <th></th>\n      <th></th>\n      <th></th>\n      <th></th>\n      <th></th>\n      <th></th>\n      <th></th>\n      <th></th>\n      <th></th>\n    </tr>\n  </thead>\n  <tbody>\n    <tr>\n      <th rowspan=\"5\" valign=\"top\">0</th>\n      <th>2017-02-01 00:00:00</th>\n      <td>8.862223</td>\n      <td>8.795639</td>\n      <td>9.235495</td>\n      <td>8.367505</td>\n      <td>8.574521</td>\n      <td>9.028636</td>\n      <td>9.629373</td>\n      <td>7.984891</td>\n      <td>9.224573</td>\n      <td>8.434877</td>\n      <td>...</td>\n      <td>274.53070</td>\n      <td>275.10632</td>\n      <td>274.88260</td>\n      <td>274.76068</td>\n      <td>274.59824</td>\n      <td>275.04144</td>\n      <td>274.87952</td>\n      <td>274.76166</td>\n      <td>274.87160</td>\n      <td>274.76790</td>\n    </tr>\n    <tr>\n      <th>2017-02-02 00:00:00</th>\n      <td>10.451436</td>\n      <td>10.054616</td>\n      <td>10.706299</td>\n      <td>9.802099</td>\n      <td>10.248920</td>\n      <td>10.252526</td>\n      <td>10.026599</td>\n      <td>10.474871</td>\n      <td>10.646054</td>\n      <td>9.856325</td>\n      <td>...</td>\n      <td>276.82056</td>\n      <td>276.72443</td>\n      <td>276.50000</td>\n      <td>277.04150</td>\n      <td>276.62488</td>\n      <td>276.92154</td>\n      <td>276.70285</td>\n      <td>276.84308</td>\n      <td>276.90564</td>\n      <td>276.64062</td>\n    </tr>\n    <tr>\n      <th>2017-02-03 00:00:00</th>\n      <td>8.540294</td>\n      <td>8.961194</td>\n      <td>8.664668</td>\n      <td>8.791291</td>\n      <td>8.559384</td>\n      <td>8.915144</td>\n      <td>8.861390</td>\n      <td>8.587131</td>\n      <td>8.095796</td>\n      <td>9.384326</td>\n      <td>...</td>\n      <td>279.24700</td>\n      <td>279.23150</td>\n      <td>279.26830</td>\n      <td>279.21228</td>\n      <td>279.19415</td>\n      <td>279.28600</td>\n      <td>279.26227</td>\n      <td>279.21716</td>\n      <td>279.30542</td>\n      <td>279.17360</td>\n    </tr>\n    <tr>\n      <th>2017-02-04 00:00:00</th>\n      <td>7.828500</td>\n      <td>8.076684</td>\n      <td>7.840140</td>\n      <td>8.092784</td>\n      <td>8.144852</td>\n      <td>7.745573</td>\n      <td>7.856093</td>\n      <td>8.032835</td>\n      <td>8.597539</td>\n      <td>7.345924</td>\n      <td>...</td>\n      <td>279.07254</td>\n      <td>279.27148</td>\n      <td>279.09213</td>\n      <td>279.25336</td>\n      <td>279.19380</td>\n      <td>279.15310</td>\n      <td>279.03650</td>\n      <td>279.31050</td>\n      <td>279.20862</td>\n      <td>279.13870</td>\n    </tr>\n    <tr>\n      <th>2017-02-05 00:00:00</th>\n      <td>5.308180</td>\n      <td>5.796695</td>\n      <td>5.653952</td>\n      <td>5.480312</td>\n      <td>5.701424</td>\n      <td>5.468842</td>\n      <td>5.543924</td>\n      <td>5.675903</td>\n      <td>5.713784</td>\n      <td>5.610285</td>\n      <td>...</td>\n      <td>277.46866</td>\n      <td>278.13974</td>\n      <td>278.05520</td>\n      <td>277.55820</td>\n      <td>277.25842</td>\n      <td>278.34738</td>\n      <td>277.76248</td>\n      <td>277.85083</td>\n      <td>277.79694</td>\n      <td>277.81723</td>\n    </tr>\n  </tbody>\n</table>\n<p>5 rows × 100 columns</p>\n</div>"
     },
     "execution_count": 47,
     "metadata": {},
     "output_type": "execute_result"
    }
   ],
   "source": [
    "offshore_ensembles_data_restructured.head(5)"
   ]
  },
  {
   "cell_type": "code",
   "execution_count": 48,
   "metadata": {
    "pycharm": {
     "name": "#%%\n"
    }
   },
   "outputs": [],
   "source": [
    "offshore_ensembles_data_hor6 = offshore_ensembles_data_restructured[:].loc[6,:]"
   ]
  },
  {
   "cell_type": "code",
   "execution_count": 49,
   "outputs": [
    {
     "name": "stdout",
     "output_type": "stream",
     "text": [
      "<class 'pandas.core.frame.DataFrame'>\n",
      "Index: 577 entries, 2017-02-01 06:00:00 to 2018-08-31 06:00:00\n",
      "Data columns (total 100 columns):\n",
      " #   Column       Non-Null Count  Dtype  \n",
      "---  ------       --------------  -----  \n",
      " 0   (speed, 1)   577 non-null    float64\n",
      " 1   (speed, 2)   577 non-null    float64\n",
      " 2   (speed, 3)   577 non-null    float64\n",
      " 3   (speed, 4)   577 non-null    float64\n",
      " 4   (speed, 5)   577 non-null    float64\n",
      " 5   (speed, 6)   577 non-null    float64\n",
      " 6   (speed, 7)   577 non-null    float64\n",
      " 7   (speed, 8)   577 non-null    float64\n",
      " 8   (speed, 9)   577 non-null    float64\n",
      " 9   (speed, 10)  577 non-null    float64\n",
      " 10  (speed, 11)  577 non-null    float64\n",
      " 11  (speed, 12)  577 non-null    float64\n",
      " 12  (speed, 13)  577 non-null    float64\n",
      " 13  (speed, 14)  577 non-null    float64\n",
      " 14  (speed, 15)  577 non-null    float64\n",
      " 15  (speed, 16)  577 non-null    float64\n",
      " 16  (speed, 17)  577 non-null    float64\n",
      " 17  (speed, 18)  577 non-null    float64\n",
      " 18  (speed, 19)  577 non-null    float64\n",
      " 19  (speed, 20)  577 non-null    float64\n",
      " 20  (speed, 21)  577 non-null    float64\n",
      " 21  (speed, 22)  577 non-null    float64\n",
      " 22  (speed, 23)  577 non-null    float64\n",
      " 23  (speed, 24)  577 non-null    float64\n",
      " 24  (speed, 25)  577 non-null    float64\n",
      " 25  (speed, 26)  577 non-null    float64\n",
      " 26  (speed, 27)  577 non-null    float64\n",
      " 27  (speed, 28)  577 non-null    float64\n",
      " 28  (speed, 29)  577 non-null    float64\n",
      " 29  (speed, 30)  577 non-null    float64\n",
      " 30  (speed, 31)  577 non-null    float64\n",
      " 31  (speed, 32)  577 non-null    float64\n",
      " 32  (speed, 33)  577 non-null    float64\n",
      " 33  (speed, 34)  577 non-null    float64\n",
      " 34  (speed, 35)  577 non-null    float64\n",
      " 35  (speed, 36)  577 non-null    float64\n",
      " 36  (speed, 37)  577 non-null    float64\n",
      " 37  (speed, 38)  577 non-null    float64\n",
      " 38  (speed, 39)  577 non-null    float64\n",
      " 39  (speed, 40)  577 non-null    float64\n",
      " 40  (speed, 41)  577 non-null    float64\n",
      " 41  (speed, 42)  577 non-null    float64\n",
      " 42  (speed, 43)  577 non-null    float64\n",
      " 43  (speed, 44)  577 non-null    float64\n",
      " 44  (speed, 45)  577 non-null    float64\n",
      " 45  (speed, 46)  577 non-null    float64\n",
      " 46  (speed, 47)  577 non-null    float64\n",
      " 47  (speed, 48)  577 non-null    float64\n",
      " 48  (speed, 49)  577 non-null    float64\n",
      " 49  (speed, 50)  577 non-null    float64\n",
      " 50  (d2m, 1)     577 non-null    float64\n",
      " 51  (d2m, 2)     577 non-null    float64\n",
      " 52  (d2m, 3)     577 non-null    float64\n",
      " 53  (d2m, 4)     577 non-null    float64\n",
      " 54  (d2m, 5)     577 non-null    float64\n",
      " 55  (d2m, 6)     577 non-null    float64\n",
      " 56  (d2m, 7)     577 non-null    float64\n",
      " 57  (d2m, 8)     577 non-null    float64\n",
      " 58  (d2m, 9)     577 non-null    float64\n",
      " 59  (d2m, 10)    577 non-null    float64\n",
      " 60  (d2m, 11)    577 non-null    float64\n",
      " 61  (d2m, 12)    577 non-null    float64\n",
      " 62  (d2m, 13)    577 non-null    float64\n",
      " 63  (d2m, 14)    577 non-null    float64\n",
      " 64  (d2m, 15)    577 non-null    float64\n",
      " 65  (d2m, 16)    577 non-null    float64\n",
      " 66  (d2m, 17)    577 non-null    float64\n",
      " 67  (d2m, 18)    577 non-null    float64\n",
      " 68  (d2m, 19)    577 non-null    float64\n",
      " 69  (d2m, 20)    577 non-null    float64\n",
      " 70  (d2m, 21)    577 non-null    float64\n",
      " 71  (d2m, 22)    577 non-null    float64\n",
      " 72  (d2m, 23)    577 non-null    float64\n",
      " 73  (d2m, 24)    577 non-null    float64\n",
      " 74  (d2m, 25)    577 non-null    float64\n",
      " 75  (d2m, 26)    577 non-null    float64\n",
      " 76  (d2m, 27)    577 non-null    float64\n",
      " 77  (d2m, 28)    577 non-null    float64\n",
      " 78  (d2m, 29)    577 non-null    float64\n",
      " 79  (d2m, 30)    577 non-null    float64\n",
      " 80  (d2m, 31)    577 non-null    float64\n",
      " 81  (d2m, 32)    577 non-null    float64\n",
      " 82  (d2m, 33)    577 non-null    float64\n",
      " 83  (d2m, 34)    577 non-null    float64\n",
      " 84  (d2m, 35)    577 non-null    float64\n",
      " 85  (d2m, 36)    577 non-null    float64\n",
      " 86  (d2m, 37)    577 non-null    float64\n",
      " 87  (d2m, 38)    577 non-null    float64\n",
      " 88  (d2m, 39)    577 non-null    float64\n",
      " 89  (d2m, 40)    577 non-null    float64\n",
      " 90  (d2m, 41)    577 non-null    float64\n",
      " 91  (d2m, 42)    577 non-null    float64\n",
      " 92  (d2m, 43)    577 non-null    float64\n",
      " 93  (d2m, 44)    577 non-null    float64\n",
      " 94  (d2m, 45)    577 non-null    float64\n",
      " 95  (d2m, 46)    577 non-null    float64\n",
      " 96  (d2m, 47)    577 non-null    float64\n",
      " 97  (d2m, 48)    577 non-null    float64\n",
      " 98  (d2m, 49)    577 non-null    float64\n",
      " 99  (d2m, 50)    577 non-null    float64\n",
      "dtypes: float64(100)\n",
      "memory usage: 455.3+ KB\n"
     ]
    },
    {
     "data": {
      "text/plain": "                         speed                                             \\\nnumber                      1          2          3         4          5    \ntime                                                                        \n2017-02-01 06:00:00  10.173201  10.355446  10.152869  9.889152  10.327680   \n2017-02-02 06:00:00  10.378813   9.332659  10.635939  8.515125   9.218588   \n2017-02-03 06:00:00   7.324460   8.091289   7.890237  7.631769   7.764442   \n2017-02-04 06:00:00   6.733559   8.713390   7.631835  8.158422   7.396195   \n2017-02-05 06:00:00   6.747715   7.109672   7.077109  7.355937   8.937841   \n\n                                                                           \\\nnumber                     6          7          8          9          10   \ntime                                                                        \n2017-02-01 06:00:00  9.782821  10.033804  10.183509  10.180767  10.099401   \n2017-02-02 06:00:00  9.321041  10.312752   8.875989  11.021940   8.728908   \n2017-02-03 06:00:00  8.354485   8.501706   7.844576   7.412458   8.319541   \n2017-02-04 06:00:00  8.486728   7.232947   8.704319   7.822733   8.735173   \n2017-02-05 06:00:00  6.252517   6.944220   7.050126   7.202817   7.646244   \n\n                     ...        d2m                                   \\\nnumber               ...         41         42         43         44   \ntime                 ...                                               \n2017-02-01 06:00:00  ...  274.52260  275.09240  274.81894  274.82460   \n2017-02-02 06:00:00  ...  278.97827  278.79517  278.87323  278.87770   \n2017-02-03 06:00:00  ...  279.42908  278.65730  279.13788  278.96870   \n2017-02-04 06:00:00  ...  277.52414  278.00302  277.81113  277.87744   \n2017-02-05 06:00:00  ...  277.31738  277.50990  278.06238  277.11676   \n\n                                                                            \\\nnumber                      45         46         47         48         49   \ntime                                                                         \n2017-02-01 06:00:00  274.79605  274.87137  274.69922  274.72946  274.94778   \n2017-02-02 06:00:00  279.05295  278.69147  278.81387  278.88890  278.91498   \n2017-02-03 06:00:00  279.44565  278.98068  279.28754  278.82004  278.81015   \n2017-02-04 06:00:00  278.06934  277.78238  277.81604  277.82710  277.85776   \n2017-02-05 06:00:00  277.67746  277.06573  277.63644  276.98956  277.99970   \n\n                                \nnumber                      50  \ntime                            \n2017-02-01 06:00:00  274.63577  \n2017-02-02 06:00:00  278.78818  \n2017-02-03 06:00:00  279.29803  \n2017-02-04 06:00:00  277.83130  \n2017-02-05 06:00:00  277.19232  \n\n[5 rows x 100 columns]",
      "text/html": "<div>\n<style scoped>\n    .dataframe tbody tr th:only-of-type {\n        vertical-align: middle;\n    }\n\n    .dataframe tbody tr th {\n        vertical-align: top;\n    }\n\n    .dataframe thead tr th {\n        text-align: left;\n    }\n\n    .dataframe thead tr:last-of-type th {\n        text-align: right;\n    }\n</style>\n<table border=\"1\" class=\"dataframe\">\n  <thead>\n    <tr>\n      <th></th>\n      <th colspan=\"10\" halign=\"left\">speed</th>\n      <th>...</th>\n      <th colspan=\"10\" halign=\"left\">d2m</th>\n    </tr>\n    <tr>\n      <th>number</th>\n      <th>1</th>\n      <th>2</th>\n      <th>3</th>\n      <th>4</th>\n      <th>5</th>\n      <th>6</th>\n      <th>7</th>\n      <th>8</th>\n      <th>9</th>\n      <th>10</th>\n      <th>...</th>\n      <th>41</th>\n      <th>42</th>\n      <th>43</th>\n      <th>44</th>\n      <th>45</th>\n      <th>46</th>\n      <th>47</th>\n      <th>48</th>\n      <th>49</th>\n      <th>50</th>\n    </tr>\n    <tr>\n      <th>time</th>\n      <th></th>\n      <th></th>\n      <th></th>\n      <th></th>\n      <th></th>\n      <th></th>\n      <th></th>\n      <th></th>\n      <th></th>\n      <th></th>\n      <th></th>\n      <th></th>\n      <th></th>\n      <th></th>\n      <th></th>\n      <th></th>\n      <th></th>\n      <th></th>\n      <th></th>\n      <th></th>\n      <th></th>\n    </tr>\n  </thead>\n  <tbody>\n    <tr>\n      <th>2017-02-01 06:00:00</th>\n      <td>10.173201</td>\n      <td>10.355446</td>\n      <td>10.152869</td>\n      <td>9.889152</td>\n      <td>10.327680</td>\n      <td>9.782821</td>\n      <td>10.033804</td>\n      <td>10.183509</td>\n      <td>10.180767</td>\n      <td>10.099401</td>\n      <td>...</td>\n      <td>274.52260</td>\n      <td>275.09240</td>\n      <td>274.81894</td>\n      <td>274.82460</td>\n      <td>274.79605</td>\n      <td>274.87137</td>\n      <td>274.69922</td>\n      <td>274.72946</td>\n      <td>274.94778</td>\n      <td>274.63577</td>\n    </tr>\n    <tr>\n      <th>2017-02-02 06:00:00</th>\n      <td>10.378813</td>\n      <td>9.332659</td>\n      <td>10.635939</td>\n      <td>8.515125</td>\n      <td>9.218588</td>\n      <td>9.321041</td>\n      <td>10.312752</td>\n      <td>8.875989</td>\n      <td>11.021940</td>\n      <td>8.728908</td>\n      <td>...</td>\n      <td>278.97827</td>\n      <td>278.79517</td>\n      <td>278.87323</td>\n      <td>278.87770</td>\n      <td>279.05295</td>\n      <td>278.69147</td>\n      <td>278.81387</td>\n      <td>278.88890</td>\n      <td>278.91498</td>\n      <td>278.78818</td>\n    </tr>\n    <tr>\n      <th>2017-02-03 06:00:00</th>\n      <td>7.324460</td>\n      <td>8.091289</td>\n      <td>7.890237</td>\n      <td>7.631769</td>\n      <td>7.764442</td>\n      <td>8.354485</td>\n      <td>8.501706</td>\n      <td>7.844576</td>\n      <td>7.412458</td>\n      <td>8.319541</td>\n      <td>...</td>\n      <td>279.42908</td>\n      <td>278.65730</td>\n      <td>279.13788</td>\n      <td>278.96870</td>\n      <td>279.44565</td>\n      <td>278.98068</td>\n      <td>279.28754</td>\n      <td>278.82004</td>\n      <td>278.81015</td>\n      <td>279.29803</td>\n    </tr>\n    <tr>\n      <th>2017-02-04 06:00:00</th>\n      <td>6.733559</td>\n      <td>8.713390</td>\n      <td>7.631835</td>\n      <td>8.158422</td>\n      <td>7.396195</td>\n      <td>8.486728</td>\n      <td>7.232947</td>\n      <td>8.704319</td>\n      <td>7.822733</td>\n      <td>8.735173</td>\n      <td>...</td>\n      <td>277.52414</td>\n      <td>278.00302</td>\n      <td>277.81113</td>\n      <td>277.87744</td>\n      <td>278.06934</td>\n      <td>277.78238</td>\n      <td>277.81604</td>\n      <td>277.82710</td>\n      <td>277.85776</td>\n      <td>277.83130</td>\n    </tr>\n    <tr>\n      <th>2017-02-05 06:00:00</th>\n      <td>6.747715</td>\n      <td>7.109672</td>\n      <td>7.077109</td>\n      <td>7.355937</td>\n      <td>8.937841</td>\n      <td>6.252517</td>\n      <td>6.944220</td>\n      <td>7.050126</td>\n      <td>7.202817</td>\n      <td>7.646244</td>\n      <td>...</td>\n      <td>277.31738</td>\n      <td>277.50990</td>\n      <td>278.06238</td>\n      <td>277.11676</td>\n      <td>277.67746</td>\n      <td>277.06573</td>\n      <td>277.63644</td>\n      <td>276.98956</td>\n      <td>277.99970</td>\n      <td>277.19232</td>\n    </tr>\n  </tbody>\n</table>\n<p>5 rows × 100 columns</p>\n</div>"
     },
     "execution_count": 49,
     "metadata": {},
     "output_type": "execute_result"
    }
   ],
   "source": [
    "offshore_ensembles_data_hor6.info()\n",
    "offshore_ensembles_data_hor6.head(5)"
   ],
   "metadata": {
    "collapsed": false,
    "pycharm": {
     "name": "#%%\n"
    }
   }
  },
  {
   "cell_type": "code",
   "execution_count": 53,
   "outputs": [],
   "source": [
    "offshore_ensembles_data_hor6.index = pd.to_datetime(offshore_ensembles_data_hor6.index)"
   ],
   "metadata": {
    "collapsed": false,
    "pycharm": {
     "name": "#%%\n"
    }
   }
  },
  {
   "cell_type": "code",
   "execution_count": 54,
   "outputs": [
    {
     "name": "stdout",
     "output_type": "stream",
     "text": [
      "<class 'pandas.core.frame.DataFrame'>\n",
      "DatetimeIndex: 577 entries, 2017-02-01 06:00:00 to 2018-08-31 06:00:00\n",
      "Data columns (total 100 columns):\n",
      " #   Column       Non-Null Count  Dtype  \n",
      "---  ------       --------------  -----  \n",
      " 0   (speed, 1)   577 non-null    float64\n",
      " 1   (speed, 2)   577 non-null    float64\n",
      " 2   (speed, 3)   577 non-null    float64\n",
      " 3   (speed, 4)   577 non-null    float64\n",
      " 4   (speed, 5)   577 non-null    float64\n",
      " 5   (speed, 6)   577 non-null    float64\n",
      " 6   (speed, 7)   577 non-null    float64\n",
      " 7   (speed, 8)   577 non-null    float64\n",
      " 8   (speed, 9)   577 non-null    float64\n",
      " 9   (speed, 10)  577 non-null    float64\n",
      " 10  (speed, 11)  577 non-null    float64\n",
      " 11  (speed, 12)  577 non-null    float64\n",
      " 12  (speed, 13)  577 non-null    float64\n",
      " 13  (speed, 14)  577 non-null    float64\n",
      " 14  (speed, 15)  577 non-null    float64\n",
      " 15  (speed, 16)  577 non-null    float64\n",
      " 16  (speed, 17)  577 non-null    float64\n",
      " 17  (speed, 18)  577 non-null    float64\n",
      " 18  (speed, 19)  577 non-null    float64\n",
      " 19  (speed, 20)  577 non-null    float64\n",
      " 20  (speed, 21)  577 non-null    float64\n",
      " 21  (speed, 22)  577 non-null    float64\n",
      " 22  (speed, 23)  577 non-null    float64\n",
      " 23  (speed, 24)  577 non-null    float64\n",
      " 24  (speed, 25)  577 non-null    float64\n",
      " 25  (speed, 26)  577 non-null    float64\n",
      " 26  (speed, 27)  577 non-null    float64\n",
      " 27  (speed, 28)  577 non-null    float64\n",
      " 28  (speed, 29)  577 non-null    float64\n",
      " 29  (speed, 30)  577 non-null    float64\n",
      " 30  (speed, 31)  577 non-null    float64\n",
      " 31  (speed, 32)  577 non-null    float64\n",
      " 32  (speed, 33)  577 non-null    float64\n",
      " 33  (speed, 34)  577 non-null    float64\n",
      " 34  (speed, 35)  577 non-null    float64\n",
      " 35  (speed, 36)  577 non-null    float64\n",
      " 36  (speed, 37)  577 non-null    float64\n",
      " 37  (speed, 38)  577 non-null    float64\n",
      " 38  (speed, 39)  577 non-null    float64\n",
      " 39  (speed, 40)  577 non-null    float64\n",
      " 40  (speed, 41)  577 non-null    float64\n",
      " 41  (speed, 42)  577 non-null    float64\n",
      " 42  (speed, 43)  577 non-null    float64\n",
      " 43  (speed, 44)  577 non-null    float64\n",
      " 44  (speed, 45)  577 non-null    float64\n",
      " 45  (speed, 46)  577 non-null    float64\n",
      " 46  (speed, 47)  577 non-null    float64\n",
      " 47  (speed, 48)  577 non-null    float64\n",
      " 48  (speed, 49)  577 non-null    float64\n",
      " 49  (speed, 50)  577 non-null    float64\n",
      " 50  (d2m, 1)     577 non-null    float64\n",
      " 51  (d2m, 2)     577 non-null    float64\n",
      " 52  (d2m, 3)     577 non-null    float64\n",
      " 53  (d2m, 4)     577 non-null    float64\n",
      " 54  (d2m, 5)     577 non-null    float64\n",
      " 55  (d2m, 6)     577 non-null    float64\n",
      " 56  (d2m, 7)     577 non-null    float64\n",
      " 57  (d2m, 8)     577 non-null    float64\n",
      " 58  (d2m, 9)     577 non-null    float64\n",
      " 59  (d2m, 10)    577 non-null    float64\n",
      " 60  (d2m, 11)    577 non-null    float64\n",
      " 61  (d2m, 12)    577 non-null    float64\n",
      " 62  (d2m, 13)    577 non-null    float64\n",
      " 63  (d2m, 14)    577 non-null    float64\n",
      " 64  (d2m, 15)    577 non-null    float64\n",
      " 65  (d2m, 16)    577 non-null    float64\n",
      " 66  (d2m, 17)    577 non-null    float64\n",
      " 67  (d2m, 18)    577 non-null    float64\n",
      " 68  (d2m, 19)    577 non-null    float64\n",
      " 69  (d2m, 20)    577 non-null    float64\n",
      " 70  (d2m, 21)    577 non-null    float64\n",
      " 71  (d2m, 22)    577 non-null    float64\n",
      " 72  (d2m, 23)    577 non-null    float64\n",
      " 73  (d2m, 24)    577 non-null    float64\n",
      " 74  (d2m, 25)    577 non-null    float64\n",
      " 75  (d2m, 26)    577 non-null    float64\n",
      " 76  (d2m, 27)    577 non-null    float64\n",
      " 77  (d2m, 28)    577 non-null    float64\n",
      " 78  (d2m, 29)    577 non-null    float64\n",
      " 79  (d2m, 30)    577 non-null    float64\n",
      " 80  (d2m, 31)    577 non-null    float64\n",
      " 81  (d2m, 32)    577 non-null    float64\n",
      " 82  (d2m, 33)    577 non-null    float64\n",
      " 83  (d2m, 34)    577 non-null    float64\n",
      " 84  (d2m, 35)    577 non-null    float64\n",
      " 85  (d2m, 36)    577 non-null    float64\n",
      " 86  (d2m, 37)    577 non-null    float64\n",
      " 87  (d2m, 38)    577 non-null    float64\n",
      " 88  (d2m, 39)    577 non-null    float64\n",
      " 89  (d2m, 40)    577 non-null    float64\n",
      " 90  (d2m, 41)    577 non-null    float64\n",
      " 91  (d2m, 42)    577 non-null    float64\n",
      " 92  (d2m, 43)    577 non-null    float64\n",
      " 93  (d2m, 44)    577 non-null    float64\n",
      " 94  (d2m, 45)    577 non-null    float64\n",
      " 95  (d2m, 46)    577 non-null    float64\n",
      " 96  (d2m, 47)    577 non-null    float64\n",
      " 97  (d2m, 48)    577 non-null    float64\n",
      " 98  (d2m, 49)    577 non-null    float64\n",
      " 99  (d2m, 50)    577 non-null    float64\n",
      "dtypes: float64(100)\n",
      "memory usage: 455.3 KB\n"
     ]
    }
   ],
   "source": [
    "offshore_ensembles_data_hor6.info()"
   ],
   "metadata": {
    "collapsed": false,
    "pycharm": {
     "name": "#%%\n"
    }
   }
  },
  {
   "cell_type": "code",
   "execution_count": null,
   "outputs": [],
   "source": [],
   "metadata": {
    "collapsed": false,
    "pycharm": {
     "name": "#%%\n"
    }
   }
  }
 ],
 "metadata": {
  "kernelspec": {
   "display_name": "Python 3 (ipykernel)",
   "language": "python",
   "name": "python3"
  },
  "language_info": {
   "codemirror_mode": {
    "name": "ipython",
    "version": 3
   },
   "file_extension": ".py",
   "mimetype": "text/x-python",
   "name": "python",
   "nbconvert_exporter": "python",
   "pygments_lexer": "ipython3",
   "version": "3.10.1"
  }
 },
 "nbformat": 4,
 "nbformat_minor": 1
}